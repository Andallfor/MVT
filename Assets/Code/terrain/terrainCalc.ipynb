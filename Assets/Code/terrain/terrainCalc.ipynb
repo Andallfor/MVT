{
 "cells": [
  {
   "cell_type": "code",
   "execution_count": 29,
   "metadata": {},
   "outputs": [],
   "source": [
    "import math\n",
    "\n",
    "#### INPUTS ####\n",
    "count = 1 # num gen files per file\n",
    "step = 96\n",
    "\n",
    "assert int(math.sqrt(count)) == math.sqrt(count)\n",
    "\n",
    "#### CONSTS ####\n",
    "# indiv files\n",
    "#FWIDTH, FHEIGHT = 14400, 10800\n",
    "FWIDTH, FHEIGHT = 15360, 23040\n",
    "FPOINTS = FWIDTH * FHEIGHT\n",
    "# whole map\n",
    "NWIDTH, NHEIGHT = 8, 6\n",
    "#WIDTH, HEIGHT = 14400 * 6, 10800 * 4\n",
    "WIDTH, HEIGHT = FWIDTH * NWIDTH, FHEIGHT * NHEIGHT\n",
    "TPOINTS = WIDTH * HEIGHT\n"
   ]
  },
  {
   "cell_type": "code",
   "execution_count": 30,
   "metadata": {},
   "outputs": [],
   "source": [
    "#### FUNCS  ####\n",
    "def p(title, value):\n",
    "    print(f'{title}: {value}')"
   ]
  },
  {
   "cell_type": "code",
   "execution_count": 31,
   "metadata": {},
   "outputs": [
    {
     "name": "stdout",
     "output_type": "stream",
     "text": [
      "step: (23040.0, 15360.0)\n",
      "inc: (30.0, 45.0)\n",
      "cell: 0.28125\n",
      "fol col: 1280.0\n",
      "fol row: 1440.0\n",
      "ppc: 3.5555555555555554\n",
      "fol t: 1843200.0\n",
      "reduc: 9216.0\n"
     ]
    }
   ],
   "source": [
    "#### FOLDER ####\n",
    "stepLat = FHEIGHT / math.sqrt(count)\n",
    "stepLon = FWIDTH / math.sqrt(count)\n",
    "incrementLat = 180 / (HEIGHT / stepLat)\n",
    "incrementLon = 360 / (WIDTH / stepLon)\n",
    "cellsize = incrementLon / (stepLon / step)\n",
    "ncols = math.sqrt(count) * (stepLon / step) * NWIDTH\n",
    "nrows = math.sqrt(count) * (stepLat / step) * NHEIGHT\n",
    "ppc = ncols / 360\n",
    "total = ncols * nrows\n",
    "reduc = TPOINTS / total\n",
    "\n",
    "p('step', (stepLat, stepLon))\n",
    "p('inc', (incrementLat, incrementLon))\n",
    "p('cell', cellsize)\n",
    "p('fol col', ncols)\n",
    "p('fol row', nrows)\n",
    "p('ppc', ppc)\n",
    "p('fol t', total)\n",
    "p('reduc', reduc)"
   ]
  },
  {
   "cell_type": "code",
   "execution_count": 32,
   "metadata": {},
   "outputs": [
    {
     "name": "stdout",
     "output_type": "stream",
     "text": [
      "file col: 160.0\n",
      "file row: 240.0\n",
      "file t: 38400.0\n",
      "t files: 48\n"
     ]
    }
   ],
   "source": [
    "####  FILE  ####\n",
    "ncols = stepLon / step\n",
    "nrows = stepLat / step\n",
    "total = ncols * nrows\n",
    "nfiles = count * NWIDTH * NHEIGHT\n",
    "\n",
    "p('file col', ncols)\n",
    "p('file row', nrows)\n",
    "p('file t', total)\n",
    "p('t files', nfiles)"
   ]
  }
 ],
 "metadata": {
  "kernelspec": {
   "display_name": "Python 3.7.9 64-bit",
   "language": "python",
   "name": "python3"
  },
  "language_info": {
   "codemirror_mode": {
    "name": "ipython",
    "version": 3
   },
   "file_extension": ".py",
   "mimetype": "text/x-python",
   "name": "python",
   "nbconvert_exporter": "python",
   "pygments_lexer": "ipython3",
   "version": "3.7.9"
  },
  "orig_nbformat": 4,
  "vscode": {
   "interpreter": {
    "hash": "e376df8ee4ed1135f65d1479581f15bbb5857b5bd6bf1fe86a68f4da13813985"
   }
  }
 },
 "nbformat": 4,
 "nbformat_minor": 2
}
