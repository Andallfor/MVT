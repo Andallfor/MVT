{
 "cells": [
  {
   "cell_type": "code",
   "execution_count": 13,
   "metadata": {},
   "outputs": [],
   "source": [
    "import math\n",
    "\n",
    "#### INPUTS ####\n",
    "count = 4\n",
    "step = 100\n",
    "\n",
    "assert math.sqrt(count) ** 2 == count\n",
    "\n",
    "#### CONSTS ####\n",
    "# whole map\n",
    "WIDTH, HEIGHT = 14400 * 6, 10800 * 4\n",
    "TPOINTS = WIDTH * HEIGHT\n",
    "# indiv files\n",
    "FWIDTH, FHEIGHT = 14400, 10800\n",
    "FPOINTS = FWIDTH * FHEIGHT"
   ]
  },
  {
   "cell_type": "code",
   "execution_count": 14,
   "metadata": {},
   "outputs": [],
   "source": [
    "#### FUNCS  ####\n",
    "def p(title, value):\n",
    "    print(f'{title}: {value}')"
   ]
  },
  {
   "cell_type": "code",
   "execution_count": 15,
   "metadata": {},
   "outputs": [
    {
     "name": "stdout",
     "output_type": "stream",
     "text": [
      "step: (5400.0, 7200.0)\n",
      "inc: (22.5, 30.0)\n",
      "cell: 0.4166666666666667\n",
      "fol col: 864.0\n",
      "fol row: 432.0\n",
      "ppc: 2.4\n",
      "fol t: 373248.0\n",
      "mem gib: 0.02780914306640625\n",
      "mem mib: 28.4765625\n",
      "reduc: 10000.0\n"
     ]
    }
   ],
   "source": [
    "#### FOLDER ####\n",
    "stepLat = FHEIGHT / math.sqrt(count)\n",
    "stepLon = FWIDTH / math.sqrt(count)\n",
    "incrementLat = 180 / (HEIGHT / stepLat)\n",
    "incrementLon = 360 / (WIDTH / stepLon)\n",
    "cellsize = incrementLon / (stepLon / step)\n",
    "ncols = math.sqrt(count) * (stepLon / step) * 6\n",
    "nrows = math.sqrt(count) * (stepLat / step) * 4\n",
    "ppc = ncols / 360\n",
    "total = ncols * nrows\n",
    "# vert * 44 bytes + #tris * 6 bytes\n",
    "worstMemByte = total * 76 + (total / 3) * 12\n",
    "reduc = TPOINTS / total\n",
    "\n",
    "p('step', (stepLat, stepLon))\n",
    "p('inc', (incrementLat, incrementLon))\n",
    "p('cell', cellsize)\n",
    "p('fol col', ncols)\n",
    "p('fol row', nrows)\n",
    "p('ppc', ppc)\n",
    "p('fol t', total)\n",
    "p('mem gib', worstMemByte / (1024 ** 3))\n",
    "p('mem mib', worstMemByte / (1024 ** 2))\n",
    "p('reduc', reduc)"
   ]
  },
  {
   "cell_type": "code",
   "execution_count": 16,
   "metadata": {},
   "outputs": [
    {
     "name": "stdout",
     "output_type": "stream",
     "text": [
      "file col: 72.0\n",
      "file row: 54.0\n",
      "file t: 3888.0\n",
      "t files: 96\n"
     ]
    }
   ],
   "source": [
    "####  FILE  ####\n",
    "ncols = stepLon / step\n",
    "nrows = stepLat / step\n",
    "total = ncols * nrows\n",
    "nfiles = count * 24\n",
    "\n",
    "p('file col', ncols)\n",
    "p('file row', nrows)\n",
    "p('file t', total)\n",
    "p('t files', nfiles)"
   ]
  }
 ],
 "metadata": {
  "interpreter": {
   "hash": "243f6f33b125fb0d93d9cf39d0d8a15377766beb9d7a00cd3351aa1387c97ab3"
  },
  "kernelspec": {
   "display_name": "Python 3.7.9 64-bit",
   "language": "python",
   "name": "python3"
  },
  "language_info": {
   "codemirror_mode": {
    "name": "ipython",
    "version": 3
   },
   "file_extension": ".py",
   "mimetype": "text/x-python",
   "name": "python",
   "nbconvert_exporter": "python",
   "pygments_lexer": "ipython3",
   "version": "3.7.9"
  },
  "orig_nbformat": 4
 },
 "nbformat": 4,
 "nbformat_minor": 2
}
