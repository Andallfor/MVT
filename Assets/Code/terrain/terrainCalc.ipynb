{
 "cells": [
  {
   "cell_type": "code",
   "execution_count": 22,
   "metadata": {},
   "outputs": [],
   "source": [
    "import math\n",
    "\n",
    "#### INPUTS ####\n",
    "count = 9 # num gen files per file\n",
    "step = 32\n",
    "\n",
    "assert int(math.sqrt(count)) == math.sqrt(count)\n",
    "\n",
    "#### CONSTS ####\n",
    "# indiv files\n",
    "#FWIDTH, FHEIGHT = 14400, 10800\n",
    "FWIDTH, FHEIGHT = 15360, 23040\n",
    "FPOINTS = FWIDTH * FHEIGHT\n",
    "# whole map\n",
    "NWIDTH, NHEIGHT = 8, 6\n",
    "#WIDTH, HEIGHT = 14400 * 6, 10800 * 4\n",
    "WIDTH, HEIGHT = FWIDTH * NWIDTH, FHEIGHT * NHEIGHT\n",
    "TPOINTS = WIDTH * HEIGHT\n"
   ]
  },
  {
   "cell_type": "code",
   "execution_count": 23,
   "metadata": {},
   "outputs": [],
   "source": [
    "#### FUNCS  ####\n",
    "def p(title, value):\n",
    "    print(f'{title}: {value}')"
   ]
  },
  {
   "cell_type": "code",
   "execution_count": 24,
   "metadata": {},
   "outputs": [
    {
     "name": "stdout",
     "output_type": "stream",
     "text": [
      "step: (7680.0, 5120.0)\n",
      "inc: (10.0, 15.0)\n",
      "cell: 0.09375\n",
      "fol col: 3840.0\n",
      "fol row: 4320.0\n",
      "ppc: 10.666666666666666\n",
      "fol t: 16588800.0\n",
      "reduc: 1024.0\n"
     ]
    }
   ],
   "source": [
    "#### FOLDER ####\n",
    "stepLat = FHEIGHT / math.sqrt(count)\n",
    "stepLon = FWIDTH / math.sqrt(count)\n",
    "incrementLat = 180 / (HEIGHT / stepLat)\n",
    "incrementLon = 360 / (WIDTH / stepLon)\n",
    "cellsize = incrementLon / (stepLon / step)\n",
    "ncols = math.sqrt(count) * (stepLon / step) * NWIDTH\n",
    "nrows = math.sqrt(count) * (stepLat / step) * NHEIGHT\n",
    "ppc = ncols / 360\n",
    "total = ncols * nrows\n",
    "reduc = TPOINTS / total\n",
    "\n",
    "p('step', (stepLat, stepLon))\n",
    "p('inc', (incrementLat, incrementLon))\n",
    "p('cell', cellsize)\n",
    "p('fol col', ncols)\n",
    "p('fol row', nrows)\n",
    "p('ppc', ppc)\n",
    "p('fol t', total)\n",
    "p('reduc', reduc)"
   ]
  },
  {
   "cell_type": "code",
   "execution_count": 25,
   "metadata": {},
   "outputs": [
    {
     "name": "stdout",
     "output_type": "stream",
     "text": [
      "file col: 160.0\n",
      "file row: 240.0\n",
      "file t: 38400.0\n",
      "t files: 432\n"
     ]
    }
   ],
   "source": [
    "####  FILE  ####\n",
    "ncols = stepLon / step\n",
    "nrows = stepLat / step\n",
    "total = ncols * nrows\n",
    "nfiles = count * NWIDTH * NHEIGHT\n",
    "\n",
    "p('file col', ncols)\n",
    "p('file row', nrows)\n",
    "p('file t', total)\n",
    "p('t files', nfiles)"
   ]
  }
 ],
 "metadata": {
  "kernelspec": {
   "display_name": "Python 3.7.9 64-bit",
   "language": "python",
   "name": "python3"
  },
  "language_info": {
   "codemirror_mode": {
    "name": "ipython",
    "version": 3
   },
   "file_extension": ".py",
   "mimetype": "text/x-python",
   "name": "python",
   "nbconvert_exporter": "python",
   "pygments_lexer": "ipython3",
   "version": "3.7.9"
  },
  "orig_nbformat": 4,
  "vscode": {
   "interpreter": {
    "hash": "e376df8ee4ed1135f65d1479581f15bbb5857b5bd6bf1fe86a68f4da13813985"
   }
  }
 },
 "nbformat": 4,
 "nbformat_minor": 2
}
